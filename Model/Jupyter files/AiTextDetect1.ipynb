{
 "cells": [
  {
   "cell_type": "code",
   "execution_count": 1,
   "metadata": {},
   "outputs": [],
   "source": [
    "import pandas as pd\n",
    "import joblib\n",
    "\n",
    "from sklearn.model_selection import train_test_split\n",
    "from sklearn.feature_extraction.text import TfidfVectorizer\n",
    "from sklearn.linear_model import LogisticRegression\n",
    "from sklearn.metrics import classification_report, accuracy_score"
   ]
  },
  {
   "cell_type": "code",
   "execution_count": 17,
   "metadata": {},
   "outputs": [
    {
     "name": "stdout",
     "output_type": "stream",
     "text": [
      "         id  prompt_id                                               text  \\\n",
      "0  0059830c          0  Cars. Cars have been around since they became ...   \n",
      "1  005db917          0  Transportation is a large necessity in most co...   \n",
      "2  008f63e3          0  \"America's love affair with it's vehicles seem...   \n",
      "3  00940276          0  How often do you ride in a car? Do you drive a...   \n",
      "4  00c39458          0  Cars are a wonderful thing. They are perhaps o...   \n",
      "\n",
      "   generated  \n",
      "0          0  \n",
      "1          0  \n",
      "2          0  \n",
      "3          0  \n",
      "4          0  \n",
      "<class 'pandas.core.frame.DataFrame'>\n",
      "RangeIndex: 1378 entries, 0 to 1377\n",
      "Data columns (total 4 columns):\n",
      " #   Column     Non-Null Count  Dtype \n",
      "---  ------     --------------  ----- \n",
      " 0   id         1378 non-null   object\n",
      " 1   prompt_id  1378 non-null   int64 \n",
      " 2   text       1378 non-null   object\n",
      " 3   generated  1378 non-null   int64 \n",
      "dtypes: int64(2), object(2)\n",
      "memory usage: 43.2+ KB\n",
      "None\n",
      "prompt_id\n",
      "0    708\n",
      "1    670\n",
      "Name: count, dtype: int64\n"
     ]
    }
   ],
   "source": [
    "# Load data\n",
    "df = pd.read_csv('../data/train_essays.csv')\n",
    "\n",
    "# Basic exploration\n",
    "print(df.head())\n",
    "print(df.info())\n",
    "print(df['prompt_id'].value_counts())"
   ]
  },
  {
   "cell_type": "code",
   "execution_count": 18,
   "metadata": {},
   "outputs": [],
   "source": [
    "# Assuming 'text' column contains the text data and 'generated' is the label\n",
    "X = df['text']\n",
    "y = df['prompt_id']\n",
    "\n",
    "# Train-test split\n",
    "X_train, X_test, y_train, y_test = train_test_split(X, y, test_size=0.2, random_state=42)\n",
    "\n",
    "# Vectorize text data\n",
    "vectorizer = TfidfVectorizer(max_features=5000)  # You can adjust max_features\n",
    "X_train_vect = vectorizer.fit_transform(X_train)\n",
    "X_test_vect = vectorizer.transform(X_test)\n"
   ]
  },
  {
   "cell_type": "code",
   "execution_count": 19,
   "metadata": {},
   "outputs": [
    {
     "name": "stdout",
     "output_type": "stream",
     "text": [
      "              precision    recall  f1-score   support\n",
      "\n",
      "           0       0.99      1.00      1.00       138\n",
      "           1       1.00      0.99      1.00       138\n",
      "\n",
      "    accuracy                           1.00       276\n",
      "   macro avg       1.00      1.00      1.00       276\n",
      "weighted avg       1.00      1.00      1.00       276\n",
      "\n",
      "Accuracy: 0.9963768115942029\n"
     ]
    }
   ],
   "source": [
    "# Initialize and train the model\n",
    "model = LogisticRegression()\n",
    "model.fit(X_train_vect, y_train)\n",
    "\n",
    "# Make predictions\n",
    "y_pred = model.predict(X_test_vect)\n",
    "\n",
    "# Evaluate the model\n",
    "print(classification_report(y_test, y_pred))\n",
    "print(\"Accuracy:\", accuracy_score(y_test, y_pred))\n"
   ]
  },
  {
   "cell_type": "code",
   "execution_count": 20,
   "metadata": {},
   "outputs": [
    {
     "data": {
      "text/plain": [
       "['vectorizer.pkl']"
      ]
     },
     "execution_count": 20,
     "metadata": {},
     "output_type": "execute_result"
    }
   ],
   "source": [
    "# Save the model\n",
    "joblib.dump(model, 'ai_text_detector.pkl')\n",
    "joblib.dump(vectorizer, 'vectorizer.pkl')"
   ]
  },
  {
   "cell_type": "code",
   "execution_count": 21,
   "metadata": {},
   "outputs": [],
   "source": [
    "# Load the trained model and vectorizer\n",
    "model = joblib.load('ai_text_detector.pkl')\n",
    "vectorizer = joblib.load('vectorizer.pkl')"
   ]
  },
  {
   "cell_type": "code",
   "execution_count": 22,
   "metadata": {},
   "outputs": [],
   "source": [
    "def predict_text_type(text):\n",
    "    # Transform the text using the vectorizer\n",
    "    text_vectorized = vectorizer.transform([text])\n",
    "    \n",
    "    # Predict using the loaded model\n",
    "    prediction = model.predict(text_vectorized)\n",
    "    \n",
    "    # Interpret the result\n",
    "    result = 'AI-generated' if prediction[0] == 1 else 'Human-written'\n",
    "    return result"
   ]
  },
  {
   "cell_type": "code",
   "execution_count": 27,
   "metadata": {},
   "outputs": [
    {
     "name": "stdout",
     "output_type": "stream",
     "text": [
      "Text: The electrol college system is an unfair system, people don't have the right to select their own president, they dont have the right to select a president. Because, when people vote they are technically voting for the electors for a candied. That candidate can be a democratic or a republican. In source two it states that electors can choose there opposing candidate. Which declines the the whole voting process. Why do we vote? we vote to select a leader who will defend this country and make america a place of opportunity. The most important reason why the electrol cllege is unfair because of the winners it take all rule. We as american people cannot choose their own government, as it says in source two, that when voters vote they are voting for the candidates electors. Each state gets one vote and then the electors can choose who they want for president. In source two it states that the electoral college consists of 538 electors and the most amount of electoral votes is 270, in order to pick an president. Also in source two it states that the number of electors we have equals to the amount of members of congress we have. I propose a new system by only letting the American people select our president by votes counted all up by each state, for example if we didn't have have electoral college, then it would be a fair vote because people votes would count the number that adds up with all votes for one candidates that will oppose another candidates and there would be technically no tie it would either ,more or less, but if we still had the electoral college then the vote would not be equally fair because if the majority of a state for example chose republican candidate, then that would be vague because some people choose democratic and there vote did not really count. but without the electoral college, than everyones vote counts and each candidates gets vote from every one, not only electoral. In source two it says that electoral who have been select by the state can choose their opposing candidtade, which is more disatvantgeing to the american people and america's future. for example if one state candidate was choosen for republican and they were faithless as it says in source two, and chose the democratic party it would be very unfortunate for the republicans because than there would be no point of the votes the republican supporters have voted for. It only comes once every four years, this is very important to the american people, on choosing who they want for the future of america. In source two and three it states the rule  winner take it all. The votes the other lose the, winning can take it all, that vote that they take from the losing does not count Because the people really didnt mean to vote for the candidate they don't want or the candidate they dont support, its like your money fell on the floor and someone just took it knowing its yours. In conclusion, the state senators should eliminate the electoral college because they count the majorty votes, and don't count other votes that is not popular as the other candidates vote. also because they can decide vote on an canditate they want based on their opinions and beliefs. and lastly because of the winner takes it all system which is bascially taking the losing candidates electoral votes.\n",
      "Prediction: AI-generated\n",
      "\n",
      "Text: There are a lot of things that develop and hold a Electoral College together. There are also a lot of down falls to the Electoral College. Every state has 1 House of Representative plus 2 of your Senators in the Electoral College. There are a total of 538 people but 270 of them is the majority vote that wins. There are a total of 5 reasons why we have to keep this method to choosing the president. The 5 ways are Certainty of outcome,Everyone's President,Swing States,Big States and Avoid RunOff Elections.The main reason we have a Electoral College is so they have a right way to choose a president. The main reason for this is so that we dont leave our electing in the hands of foreign peopleimmiagrants. The is what the president needs to get elected in the electoral college. There are still a lot of down falls to this method of the electoral college though. One of these issues is at the most basic level, the electoral college is unfair to voter. This means winner takes all which is they only focus on the bigger states and not the smaller ones because the bigger states have bigger population which means they have more in the electoral college. Another issue with this method is that the person thats running for president might get the popularity vote but still not win. See everyone that votes isnt really voting directly for the president, the people who really count is the electoral college. In order to win the vote you have to convince the electoral college and thats not always easy. So remember just because you won popular vote doesnt mean you won the majority of the electoral vote. There are 5 reasons why we keep this method of electing the president. The first reason is Certainty of Outcome. This means it's less likely than a dispute over the popular vote. Which really means the candidates share to the other people in the Electoral college there share of the popular vote and thats how they vote. The second reason is Everyones President. This is basically shows that the Electoral College requires a presidential candidate to have transregional appeal. This means that no region such as south,northwest,etc. has enough electoral votes to elect a president. The third resone to keeping these methods is Swing States. This tells me that its the winner takes all method. The fourth method why we should keep these methods is the Big States. This explains that the Electoral College restores some of the wieght in the political balance. this means that the bigger states get a big advantage in the electoral because the people that get elected into office there is based off of population so they have an advantage. THe bigger states get more attention from the candates then the smaller states do. The final reason why we should keep this method of voting is Avoid RunOff Elections. This means the Electoral College aviods the problem of Elections in which no candidates recieves a majority of the votes cast. This means no pressure for candidates when they win majority of the votes cast. There are many ways to develop and to hold the Electoral College together. There are many ways that it falls apart and has it flaws but its the best way for our econany to vote for president. If you think about it if we just did popularity vote that would be like leading our hands into a world of immigrates who know a very little. There a lot of rules for our Electoral process buyt its the best way and the only way we have to becoming a better place. Dont forget to look at the 5 reasons we keep this the way it is.\n",
      "Prediction: AI-generated\n"
     ]
    }
   ],
   "source": [
    "# Example usage\n",
    "sample_text_1 = \"The electrol college system is an unfair system, people don't have the right to select their own president, they dont have the right to select a president. Because, when people vote they are technically voting for the electors for a candied. That candidate can be a democratic or a republican. In source two it states that electors can choose there opposing candidate. Which declines the the whole voting process. Why do we vote? we vote to select a leader who will defend this country and make america a place of opportunity. The most important reason why the electrol cllege is unfair because of the winners it take all rule. We as american people cannot choose their own government, as it says in source two, that when voters vote they are voting for the candidates electors. Each state gets one vote and then the electors can choose who they want for president. In source two it states that the electoral college consists of 538 electors and the most amount of electoral votes is 270, in order to pick an president. Also in source two it states that the number of electors we have equals to the amount of members of congress we have. I propose a new system by only letting the American people select our president by votes counted all up by each state, for example if we didn't have have electoral college, then it would be a fair vote because people votes would count the number that adds up with all votes for one candidates that will oppose another candidates and there would be technically no tie it would either ,more or less, but if we still had the electoral college then the vote would not be equally fair because if the majority of a state for example chose republican candidate, then that would be vague because some people choose democratic and there vote did not really count. but without the electoral college, than everyones vote counts and each candidates gets vote from every one, not only electoral. In source two it says that electoral who have been select by the state can choose their opposing candidtade, which is more disatvantgeing to the american people and america's future. for example if one state candidate was choosen for republican and they were faithless as it says in source two, and chose the democratic party it would be very unfortunate for the republicans because than there would be no point of the votes the republican supporters have voted for. It only comes once every four years, this is very important to the american people, on choosing who they want for the future of america. In source two and three it states the rule  winner take it all. The votes the other lose the, winning can take it all, that vote that they take from the losing does not count Because the people really didnt mean to vote for the candidate they don't want or the candidate they dont support, its like your money fell on the floor and someone just took it knowing its yours. In conclusion, the state senators should eliminate the electoral college because they count the majorty votes, and don't count other votes that is not popular as the other candidates vote. also because they can decide vote on an canditate they want based on their opinions and beliefs. and lastly because of the winner takes it all system which is bascially taking the losing candidates electoral votes.\"\n",
    "sample_text_2 = \"There are a lot of things that develop and hold a Electoral College together. There are also a lot of down falls to the Electoral College. Every state has 1 House of Representative plus 2 of your Senators in the Electoral College. There are a total of 538 people but 270 of them is the majority vote that wins. There are a total of 5 reasons why we have to keep this method to choosing the president. The 5 ways are Certainty of outcome,Everyone's President,Swing States,Big States and Avoid RunOff Elections.The main reason we have a Electoral College is so they have a right way to choose a president. The main reason for this is so that we dont leave our electing in the hands of foreign peopleimmiagrants. The is what the president needs to get elected in the electoral college. There are still a lot of down falls to this method of the electoral college though. One of these issues is at the most basic level, the electoral college is unfair to voter. This means winner takes all which is they only focus on the bigger states and not the smaller ones because the bigger states have bigger population which means they have more in the electoral college. Another issue with this method is that the person thats running for president might get the popularity vote but still not win. See everyone that votes isnt really voting directly for the president, the people who really count is the electoral college. In order to win the vote you have to convince the electoral college and thats not always easy. So remember just because you won popular vote doesnt mean you won the majority of the electoral vote. There are 5 reasons why we keep this method of electing the president. The first reason is Certainty of Outcome. This means it's less likely than a dispute over the popular vote. Which really means the candidates share to the other people in the Electoral college there share of the popular vote and thats how they vote. The second reason is Everyones President. This is basically shows that the Electoral College requires a presidential candidate to have transregional appeal. This means that no region such as south,northwest,etc. has enough electoral votes to elect a president. The third resone to keeping these methods is Swing States. This tells me that its the winner takes all method. The fourth method why we should keep these methods is the Big States. This explains that the Electoral College restores some of the wieght in the political balance. this means that the bigger states get a big advantage in the electoral because the people that get elected into office there is based off of population so they have an advantage. THe bigger states get more attention from the candates then the smaller states do. The final reason why we should keep this method of voting is Avoid RunOff Elections. This means the Electoral College aviods the problem of Elections in which no candidates recieves a majority of the votes cast. This means no pressure for candidates when they win majority of the votes cast. There are many ways to develop and to hold the Electoral College together. There are many ways that it falls apart and has it flaws but its the best way for our econany to vote for president. If you think about it if we just did popularity vote that would be like leading our hands into a world of immigrates who know a very little. There a lot of rules for our Electoral process buyt its the best way and the only way we have to becoming a better place. Dont forget to look at the 5 reasons we keep this the way it is.\"\n",
    "\n",
    "print(f\"Text: {sample_text_1}\")\n",
    "print(f\"Prediction: {predict_text_type(sample_text_1)}\\n\")\n",
    "\n",
    "print(f\"Text: {sample_text_2}\")\n",
    "print(f\"Prediction: {predict_text_type(sample_text_2)}\")"
   ]
  },
  {
   "cell_type": "code",
   "execution_count": null,
   "metadata": {},
   "outputs": [],
   "source": []
  }
 ],
 "metadata": {
  "kernelspec": {
   "display_name": "AiTextDetection",
   "language": "python",
   "name": "aitextdetection"
  },
  "language_info": {
   "codemirror_mode": {
    "name": "ipython",
    "version": 3
   },
   "file_extension": ".py",
   "mimetype": "text/x-python",
   "name": "python",
   "nbconvert_exporter": "python",
   "pygments_lexer": "ipython3",
   "version": "3.9.18"
  }
 },
 "nbformat": 4,
 "nbformat_minor": 2
}
